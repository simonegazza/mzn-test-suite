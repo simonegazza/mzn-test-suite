{
 "cells": [
  {
   "cell_type": "markdown",
   "metadata": {},
   "source": [
    "# Import"
   ]
  },
  {
   "cell_type": "code",
   "execution_count": 20,
   "metadata": {},
   "outputs": [],
   "source": [
    "import json\n",
    "import itertools\n",
    "from functools import reduce\n",
    "\n",
    "import pandas as pd\n",
    "\n",
    "from matplotlib import rcParams\n",
    "rcParams['figure.figsize'] = 8, 8"
   ]
  },
  {
   "cell_type": "markdown",
   "metadata": {},
   "source": [
    "# Function definition"
   ]
  },
  {
   "cell_type": "code",
   "execution_count": 21,
   "metadata": {},
   "outputs": [],
   "source": [
    "def save_fig(fig, name):\n",
    "    fig.savefig(\"./graphs/\" + name + \".pdf\", format=\"pdf\")"
   ]
  },
  {
   "cell_type": "code",
   "execution_count": 22,
   "metadata": {},
   "outputs": [],
   "source": [
    "def fix_status(df_line):\n",
    "    if df_line.status != \"UNKNOWN\":\n",
    "        return df_line.status\n",
    "\n",
    "    if df_line.objectives != {}:\n",
    "        return \"SATISFIABLE\"\n",
    "\n",
    "    return df_line.status"
   ]
  },
  {
   "cell_type": "markdown",
   "metadata": {},
   "source": [
    "Borda counting\n",
    "\n",
    "|     s1 \\ s2 | satisfied | unsatisfied |     unkown | optimized |\n",
    "|-------------|-----------|-------------|------------|-----------|\n",
    "|   satisfied | o, timing |         bug |        s_1 |       s_2 |\n",
    "| unsatisfied |       bug |      timing |        s_1 |       bug |\n",
    "|      unkown |       s_2 |         s_2 |        0-0 |       s_2 |\n",
    "|   optimized |       s_1 |         bug |        s_1 |    timing |\n",
    "\n",
    "where\n",
    "- s_x means give one point to solver x and zero to the other solver\n",
    "- o mean look at the objective value. If one solver gives a better answer, that\n",
    "  solver wins one point and the other zero. If both are equals, look at the\n",
    "  times\n",
    "- bug means one of the two solver contains a bug\n",
    "- timing mean look directly at the times\n",
    "- 0-0 means that each solver gets zero points"
   ]
  },
  {
   "cell_type": "code",
   "execution_count": 23,
   "metadata": {},
   "outputs": [],
   "source": [
    "def score(t1, t2):\n",
    "    if t1 == 0 and t2 == 0:\n",
    "        return (0.5, 0.5)\n",
    "    else:\n",
    "        return (\n",
    "            t2 / (t1 + t2),\n",
    "            t1 / (t1 + t2),\n",
    "        )\n",
    "\n",
    "def borda_count(x):\n",
    "    try:\n",
    "        model1 = x.iloc[0]\n",
    "        model2 = x.iloc[1]\n",
    "\n",
    "        status1 = model1.status\n",
    "        status2 = model2.status\n",
    "\n",
    "        obj1 = max(model1.objectives.values(), default=None)\n",
    "        obj2 = max(model2.objectives.values(), default=None)\n",
    "\n",
    "        t1 = int(model1.solve_time - model1.flat_time)\n",
    "        t2 = int(model2.solve_time - model2.flat_time)\n",
    "    except:\n",
    "        print(x)\n",
    "\n",
    "    if status1 == \"Optimal solution\":\n",
    "        if status2 == \"Optimal solution\":\n",
    "            if obj1 == obj2:\n",
    "                return score(t1, t2)\n",
    "            else:\n",
    "                print(\"ERROR: BOTH SOLVERS SAY THEY REACHED OPTIMAL SOLUTION BUT THE VALUES ARE DIFFERENT\")\n",
    "                pass\n",
    "        elif status2 == \"Unsatisfiable\":\n",
    "            print(\"ERROR: ONE SOLVER REACHED THE OPTIMAL SOLUTION BUT THE OTHER ONE SAY UNSAT\")\n",
    "            pass\n",
    "        else:\n",
    "            return (1, 0)\n",
    "    elif status1 == \"Unknown\":\n",
    "        if status2 == \"Unknown\":\n",
    "            return (0, 0)\n",
    "        else:\n",
    "            return (0, 1)\n",
    "    elif status1 == \"Unsatisfiable\":\n",
    "        if status2 == \"Satisfiable\" or status2 == \"Optimal solution\":\n",
    "            print(\"ERROR: ONE SOLVER REACHED UNSAT BUT THE OTHER ONE SAY SAT/OPTIMAL\")\n",
    "            pass\n",
    "        elif status2 == \"Unknown\":\n",
    "            return (1, 0)\n",
    "        else:\n",
    "            return score(t1, t2)\n",
    "    elif status1 == \"Satisfiable\":\n",
    "        if status2 == \"Unknown\":\n",
    "            return (1, 0)\n",
    "        elif status2 == \"Optimal solution\":\n",
    "            return (0, 1)\n",
    "        elif status2 == \"Satisfiable\":\n",
    "            if obj1 > obj2: # Minimization problem\n",
    "                return (0, 1)\n",
    "            elif obj1 < obj2:\n",
    "                return (1, 0)\n",
    "            else:\n",
    "                return score(t1, t2)\n",
    "        else:\n",
    "            print(\"ERROR: ONE SOLVER REACHED SAT BUT THE OTHER ONE SAY UNSAT\")\n",
    "            pass\n",
    "\n",
    "    # Exit results for errors\n",
    "    errors.append(x)\n",
    "    return (0, 0)\n"
   ]
  },
  {
   "cell_type": "markdown",
   "metadata": {},
   "source": [
    "# Dataframe import"
   ]
  },
  {
   "cell_type": "code",
   "execution_count": 24,
   "metadata": {},
   "outputs": [
    {
     "data": {
      "text/html": [
       "<div>\n",
       "<style scoped>\n",
       "    .dataframe tbody tr th:only-of-type {\n",
       "        vertical-align: middle;\n",
       "    }\n",
       "\n",
       "    .dataframe tbody tr th {\n",
       "        vertical-align: top;\n",
       "    }\n",
       "\n",
       "    .dataframe thead th {\n",
       "        text-align: right;\n",
       "    }\n",
       "</style>\n",
       "<table border=\"1\" class=\"dataframe\">\n",
       "  <thead>\n",
       "    <tr style=\"text-align: right;\">\n",
       "      <th></th>\n",
       "      <th>problem</th>\n",
       "      <th>status</th>\n",
       "      <th>flat_time</th>\n",
       "      <th>solve_time</th>\n",
       "      <th>objectives</th>\n",
       "      <th>solver</th>\n",
       "      <th>test</th>\n",
       "      <th>optimal_solution</th>\n",
       "    </tr>\n",
       "  </thead>\n",
       "  <tbody>\n",
       "    <tr>\n",
       "      <th>0</th>\n",
       "      <td>TOIT/data/data-82.dzn</td>\n",
       "      <td>Optimal solution</td>\n",
       "      <td>0.206</td>\n",
       "      <td>0.625</td>\n",
       "      <td>{'0.611': 18, '0.616': 25}</td>\n",
       "      <td>Chuffed</td>\n",
       "      <td>82</td>\n",
       "      <td>25.0</td>\n",
       "    </tr>\n",
       "    <tr>\n",
       "      <th>1</th>\n",
       "      <td>TOIT/data/data-96.dzn</td>\n",
       "      <td>Unsatisfiable</td>\n",
       "      <td>0.236</td>\n",
       "      <td>0.571</td>\n",
       "      <td>{}</td>\n",
       "      <td>Chuffed</td>\n",
       "      <td>96</td>\n",
       "      <td>NaN</td>\n",
       "    </tr>\n",
       "    <tr>\n",
       "      <th>2</th>\n",
       "      <td>TOIT/data/data-69.dzn</td>\n",
       "      <td>Optimal solution</td>\n",
       "      <td>0.318</td>\n",
       "      <td>0.894</td>\n",
       "      <td>{'0.831': 28}</td>\n",
       "      <td>Chuffed</td>\n",
       "      <td>69</td>\n",
       "      <td>28.0</td>\n",
       "    </tr>\n",
       "    <tr>\n",
       "      <th>3</th>\n",
       "      <td>TOIT/data/data-41.dzn</td>\n",
       "      <td>Unsatisfiable</td>\n",
       "      <td>0.364</td>\n",
       "      <td>0.651</td>\n",
       "      <td>{}</td>\n",
       "      <td>Chuffed</td>\n",
       "      <td>41</td>\n",
       "      <td>NaN</td>\n",
       "    </tr>\n",
       "    <tr>\n",
       "      <th>4</th>\n",
       "      <td>TOIT/data/data-55.dzn</td>\n",
       "      <td>Optimal solution</td>\n",
       "      <td>0.367</td>\n",
       "      <td>1.036</td>\n",
       "      <td>{'1.003': 21, '1.011': 35}</td>\n",
       "      <td>Chuffed</td>\n",
       "      <td>55</td>\n",
       "      <td>35.0</td>\n",
       "    </tr>\n",
       "    <tr>\n",
       "      <th>...</th>\n",
       "      <td>...</td>\n",
       "      <td>...</td>\n",
       "      <td>...</td>\n",
       "      <td>...</td>\n",
       "      <td>...</td>\n",
       "      <td>...</td>\n",
       "      <td>...</td>\n",
       "      <td>...</td>\n",
       "    </tr>\n",
       "    <tr>\n",
       "      <th>395</th>\n",
       "      <td>TOIT/data/data-71.dzn</td>\n",
       "      <td>Unsatisfiable</td>\n",
       "      <td>0.185</td>\n",
       "      <td>0.199</td>\n",
       "      <td>{}</td>\n",
       "      <td>Highs</td>\n",
       "      <td>71</td>\n",
       "      <td>NaN</td>\n",
       "    </tr>\n",
       "    <tr>\n",
       "      <th>396</th>\n",
       "      <td>TOIT/data/data-59.dzn</td>\n",
       "      <td>Optimal solution</td>\n",
       "      <td>0.192</td>\n",
       "      <td>0.258</td>\n",
       "      <td>{'0.216': 35, '0.232': 39, '0.242': 40}</td>\n",
       "      <td>Highs</td>\n",
       "      <td>59</td>\n",
       "      <td>40.0</td>\n",
       "    </tr>\n",
       "    <tr>\n",
       "      <th>397</th>\n",
       "      <td>TOIT/data/data-58.dzn</td>\n",
       "      <td>Unsatisfiable</td>\n",
       "      <td>0.180</td>\n",
       "      <td>0.192</td>\n",
       "      <td>{}</td>\n",
       "      <td>Highs</td>\n",
       "      <td>58</td>\n",
       "      <td>NaN</td>\n",
       "    </tr>\n",
       "    <tr>\n",
       "      <th>398</th>\n",
       "      <td>TOIT/data/data-70.dzn</td>\n",
       "      <td>Unsatisfiable</td>\n",
       "      <td>0.187</td>\n",
       "      <td>0.274</td>\n",
       "      <td>{}</td>\n",
       "      <td>Highs</td>\n",
       "      <td>70</td>\n",
       "      <td>NaN</td>\n",
       "    </tr>\n",
       "    <tr>\n",
       "      <th>399</th>\n",
       "      <td>TOIT/data/data-64.dzn</td>\n",
       "      <td>Unsatisfiable</td>\n",
       "      <td>0.180</td>\n",
       "      <td>0.296</td>\n",
       "      <td>{}</td>\n",
       "      <td>Highs</td>\n",
       "      <td>64</td>\n",
       "      <td>NaN</td>\n",
       "    </tr>\n",
       "  </tbody>\n",
       "</table>\n",
       "<p>400 rows × 8 columns</p>\n",
       "</div>"
      ],
      "text/plain": [
       "                   problem            status  flat_time  solve_time  \\\n",
       "0    TOIT/data/data-82.dzn  Optimal solution      0.206       0.625   \n",
       "1    TOIT/data/data-96.dzn     Unsatisfiable      0.236       0.571   \n",
       "2    TOIT/data/data-69.dzn  Optimal solution      0.318       0.894   \n",
       "3    TOIT/data/data-41.dzn     Unsatisfiable      0.364       0.651   \n",
       "4    TOIT/data/data-55.dzn  Optimal solution      0.367       1.036   \n",
       "..                     ...               ...        ...         ...   \n",
       "395  TOIT/data/data-71.dzn     Unsatisfiable      0.185       0.199   \n",
       "396  TOIT/data/data-59.dzn  Optimal solution      0.192       0.258   \n",
       "397  TOIT/data/data-58.dzn     Unsatisfiable      0.180       0.192   \n",
       "398  TOIT/data/data-70.dzn     Unsatisfiable      0.187       0.274   \n",
       "399  TOIT/data/data-64.dzn     Unsatisfiable      0.180       0.296   \n",
       "\n",
       "                                  objectives   solver  test  optimal_solution  \n",
       "0                 {'0.611': 18, '0.616': 25}  Chuffed    82              25.0  \n",
       "1                                         {}  Chuffed    96               NaN  \n",
       "2                              {'0.831': 28}  Chuffed    69              28.0  \n",
       "3                                         {}  Chuffed    41               NaN  \n",
       "4                 {'1.003': 21, '1.011': 35}  Chuffed    55              35.0  \n",
       "..                                       ...      ...   ...               ...  \n",
       "395                                       {}    Highs    71               NaN  \n",
       "396  {'0.216': 35, '0.232': 39, '0.242': 40}    Highs    59              40.0  \n",
       "397                                       {}    Highs    58               NaN  \n",
       "398                                       {}    Highs    70               NaN  \n",
       "399                                       {}    Highs    64               NaN  \n",
       "\n",
       "[400 rows x 8 columns]"
      ]
     },
     "execution_count": 24,
     "metadata": {},
     "output_type": "execute_result"
    }
   ],
   "source": [
    "with open(\"./results.json\", \"r\") as f:\n",
    "    results = json.load(f)\n",
    "\n",
    "dfs = []\n",
    "for k, v in results.items():\n",
    "    x = pd.DataFrame(v).assign(**{\n",
    "        \"solver\" : k\n",
    "    })\n",
    "    dfs.append(\n",
    "        x\n",
    "    )\n",
    "\n",
    "df = pd.concat(dfs).assign(**{\n",
    "    \"test\" : lambda df : df.problem.apply(lambda x : int(x.split(\"/\")[-1].split(\"-\")[1][:2])),\n",
    "    \"solve_time\" : lambda df : df.apply(\n",
    "        lambda x :\n",
    "            300\n",
    "            if \"UNKNOWN\" in x[\"status\"]\n",
    "            else x.solve_time,\n",
    "        axis=1),\n",
    "    \"status\" : lambda df : df.apply(\n",
    "        lambda x : fix_status(x),\n",
    "    axis=1)\n",
    "}).replace({\n",
    "    \"cpsatlp\": \"OR-Tools\",\n",
    "    \"gecode\": \"Gecode\",\n",
    "    \"highs\": \"Highs\",\n",
    "    \"chuffed\": \"Chuffed\",\n",
    "    \"OPTIMAL_SOLUTION\": \"Optimal solution\",\n",
    "    \"UNSATISFIABLE\": \"Unsatisfiable\",\n",
    "    \"UNKNOWN\": \"Unknown\",\n",
    "    \"SATISFIABLE\": \"Satisfiable\"\n",
    "}).drop(\n",
    "    columns=[]\n",
    ").assign(optimal_solution=lambda df : df.apply(\n",
    "    lambda x : max(x.objectives.values()) if \"Optimal solution\" in x.status else None, axis=1\n",
    ")).reset_index(drop=True)\n",
    "\n",
    "df"
   ]
  },
  {
   "cell_type": "markdown",
   "metadata": {},
   "source": [
    "# Clean Up"
   ]
  },
  {
   "cell_type": "code",
   "execution_count": 25,
   "metadata": {},
   "outputs": [
    {
     "name": "stdout",
     "output_type": "stream",
     "text": [
      "Erros amount:  0\n"
     ]
    }
   ],
   "source": [
    "# Remove instances that not all solvers has run\n",
    "errors = []\n",
    "for _, g in df.groupby(\"test\"):\n",
    "    if len(g) != df.solver.nunique():\n",
    "        errors.append(g.reset_index().assign(reason=\"less than four solver run this instance\"))\n",
    "        continue\n",
    "errors = pd.concat(errors) if len(errors) > 0 else pd.DataFrame()\n",
    "print(\"Erros amount: \", len(errors))"
   ]
  },
  {
   "cell_type": "code",
   "execution_count": 26,
   "metadata": {},
   "outputs": [
    {
     "name": "stdout",
     "output_type": "stream",
     "text": [
      "Erros amount:  0\n"
     ]
    }
   ],
   "source": [
    "# Remove instances with faulty results between solvers\n",
    "faulty_result = []\n",
    "for _, g in df.groupby(\"test\"):\n",
    "    if len(g.status.value_counts().reset_index().query(\"status == 'Unsatisfiable'\")) > 0:\n",
    "        if len(g.status.value_counts().reset_index().query(\"status != 'Unsatisfiable'\")) > 0:\n",
    "            faulty_result.append(g)\n",
    "print(\"Erros amount: \", len(faulty_result))\n"
   ]
  },
  {
   "cell_type": "code",
   "execution_count": 27,
   "metadata": {},
   "outputs": [],
   "source": [
    "solvers = df.solver.unique()"
   ]
  },
  {
   "cell_type": "markdown",
   "metadata": {},
   "source": [
    "# DataFrame Analysis"
   ]
  },
  {
   "cell_type": "code",
   "execution_count": 28,
   "metadata": {},
   "outputs": [
    {
     "data": {
      "text/plain": [
       "array(['Optimal solution', 'Unsatisfiable'], dtype=object)"
      ]
     },
     "execution_count": 28,
     "metadata": {},
     "output_type": "execute_result"
    }
   ],
   "source": [
    "df.status.unique()"
   ]
  },
  {
   "cell_type": "code",
   "execution_count": 29,
   "metadata": {},
   "outputs": [
    {
     "data": {
      "text/plain": [
       "status\n",
       "Optimal solution    0.54\n",
       "Unsatisfiable       0.46\n",
       "Name: proportion, dtype: float64"
      ]
     },
     "execution_count": 29,
     "metadata": {},
     "output_type": "execute_result"
    }
   ],
   "source": [
    "df.status.value_counts(normalize=True)"
   ]
  },
  {
   "cell_type": "code",
   "execution_count": 30,
   "metadata": {},
   "outputs": [
    {
     "data": {
      "text/html": [
       "<div>\n",
       "<style scoped>\n",
       "    .dataframe tbody tr th:only-of-type {\n",
       "        vertical-align: middle;\n",
       "    }\n",
       "\n",
       "    .dataframe tbody tr th {\n",
       "        vertical-align: top;\n",
       "    }\n",
       "\n",
       "    .dataframe thead th {\n",
       "        text-align: right;\n",
       "    }\n",
       "</style>\n",
       "<table border=\"1\" class=\"dataframe\">\n",
       "  <thead>\n",
       "    <tr style=\"text-align: right;\">\n",
       "      <th></th>\n",
       "      <th>solver</th>\n",
       "      <th>status</th>\n",
       "      <th>count</th>\n",
       "    </tr>\n",
       "  </thead>\n",
       "  <tbody>\n",
       "    <tr>\n",
       "      <th>0</th>\n",
       "      <td>Chuffed</td>\n",
       "      <td>Optimal solution</td>\n",
       "      <td>54</td>\n",
       "    </tr>\n",
       "    <tr>\n",
       "      <th>1</th>\n",
       "      <td>Chuffed</td>\n",
       "      <td>Unsatisfiable</td>\n",
       "      <td>46</td>\n",
       "    </tr>\n",
       "    <tr>\n",
       "      <th>2</th>\n",
       "      <td>Gecode</td>\n",
       "      <td>Optimal solution</td>\n",
       "      <td>54</td>\n",
       "    </tr>\n",
       "    <tr>\n",
       "      <th>3</th>\n",
       "      <td>Gecode</td>\n",
       "      <td>Unsatisfiable</td>\n",
       "      <td>46</td>\n",
       "    </tr>\n",
       "    <tr>\n",
       "      <th>4</th>\n",
       "      <td>Highs</td>\n",
       "      <td>Optimal solution</td>\n",
       "      <td>54</td>\n",
       "    </tr>\n",
       "    <tr>\n",
       "      <th>5</th>\n",
       "      <td>Highs</td>\n",
       "      <td>Unsatisfiable</td>\n",
       "      <td>46</td>\n",
       "    </tr>\n",
       "    <tr>\n",
       "      <th>6</th>\n",
       "      <td>OR-Tools</td>\n",
       "      <td>Optimal solution</td>\n",
       "      <td>54</td>\n",
       "    </tr>\n",
       "    <tr>\n",
       "      <th>7</th>\n",
       "      <td>OR-Tools</td>\n",
       "      <td>Unsatisfiable</td>\n",
       "      <td>46</td>\n",
       "    </tr>\n",
       "  </tbody>\n",
       "</table>\n",
       "</div>"
      ],
      "text/plain": [
       "     solver            status  count\n",
       "0   Chuffed  Optimal solution     54\n",
       "1   Chuffed     Unsatisfiable     46\n",
       "2    Gecode  Optimal solution     54\n",
       "3    Gecode     Unsatisfiable     46\n",
       "4     Highs  Optimal solution     54\n",
       "5     Highs     Unsatisfiable     46\n",
       "6  OR-Tools  Optimal solution     54\n",
       "7  OR-Tools     Unsatisfiable     46"
      ]
     },
     "execution_count": 30,
     "metadata": {},
     "output_type": "execute_result"
    }
   ],
   "source": [
    "df[[\"solver\", \"status\"]].groupby(\"solver\").value_counts().reset_index()"
   ]
  },
  {
   "cell_type": "code",
   "execution_count": 31,
   "metadata": {},
   "outputs": [
    {
     "data": {
      "text/plain": [
       "np.float64(5.848)"
      ]
     },
     "execution_count": 31,
     "metadata": {},
     "output_type": "execute_result"
    }
   ],
   "source": [
    "df.solve_time.max()"
   ]
  },
  {
   "cell_type": "markdown",
   "metadata": {},
   "source": [
    "# Paper tables"
   ]
  },
  {
   "cell_type": "code",
   "execution_count": 32,
   "metadata": {},
   "outputs": [
    {
     "data": {
      "text/html": [
       "<div>\n",
       "<style scoped>\n",
       "    .dataframe tbody tr th:only-of-type {\n",
       "        vertical-align: middle;\n",
       "    }\n",
       "\n",
       "    .dataframe tbody tr th {\n",
       "        vertical-align: top;\n",
       "    }\n",
       "\n",
       "    .dataframe thead th {\n",
       "        text-align: right;\n",
       "    }\n",
       "</style>\n",
       "<table border=\"1\" class=\"dataframe\">\n",
       "  <thead>\n",
       "    <tr style=\"text-align: right;\">\n",
       "      <th></th>\n",
       "      <th>solver</th>\n",
       "      <th>avg</th>\n",
       "      <th>min</th>\n",
       "      <th>max</th>\n",
       "    </tr>\n",
       "  </thead>\n",
       "  <tbody>\n",
       "    <tr>\n",
       "      <th>0</th>\n",
       "      <td>Chuffed</td>\n",
       "      <td>0.47s</td>\n",
       "      <td>0.27s</td>\n",
       "      <td>5.85s</td>\n",
       "    </tr>\n",
       "    <tr>\n",
       "      <th>1</th>\n",
       "      <td>Gecode</td>\n",
       "      <td>0.17s</td>\n",
       "      <td>0.14s</td>\n",
       "      <td>0.26s</td>\n",
       "    </tr>\n",
       "    <tr>\n",
       "      <th>2</th>\n",
       "      <td>Highs</td>\n",
       "      <td>0.36s</td>\n",
       "      <td>0.17s</td>\n",
       "      <td>2.26s</td>\n",
       "    </tr>\n",
       "    <tr>\n",
       "      <th>3</th>\n",
       "      <td>OR-Tools</td>\n",
       "      <td>0.17s</td>\n",
       "      <td>0.14s</td>\n",
       "      <td>0.23s</td>\n",
       "    </tr>\n",
       "  </tbody>\n",
       "</table>\n",
       "</div>"
      ],
      "text/plain": [
       "     solver    avg    min    max\n",
       "0   Chuffed  0.47s  0.27s  5.85s\n",
       "1    Gecode  0.17s  0.14s  0.26s\n",
       "2     Highs  0.36s  0.17s  2.26s\n",
       "3  OR-Tools  0.17s  0.14s  0.23s"
      ]
     },
     "execution_count": 32,
     "metadata": {},
     "output_type": "execute_result"
    }
   ],
   "source": [
    "mean_solve_time = (\n",
    "    df[[\"solver\", \"solve_time\"]]\n",
    "    .groupby(\"solver\")\n",
    "    .aggregate({\n",
    "        \"solve_time\": (\"mean\", \"min\", \"max\"),\n",
    "    })\n",
    "    .map(lambda x : str(round(x, 2)) + \"s\")\n",
    ")\n",
    "mean_solve_time.columns = [col[1] for col in mean_solve_time.columns.values]\n",
    "mean_solve_time = mean_solve_time.reset_index().sort_values(\"solver\").rename(columns={\"mean\": \"avg\"})\n",
    "mean_solve_time"
   ]
  },
  {
   "cell_type": "code",
   "execution_count": 33,
   "metadata": {},
   "outputs": [
    {
     "data": {
      "text/html": [
       "<div>\n",
       "<style scoped>\n",
       "    .dataframe tbody tr th:only-of-type {\n",
       "        vertical-align: middle;\n",
       "    }\n",
       "\n",
       "    .dataframe tbody tr th {\n",
       "        vertical-align: top;\n",
       "    }\n",
       "\n",
       "    .dataframe thead th {\n",
       "        text-align: right;\n",
       "    }\n",
       "</style>\n",
       "<table border=\"1\" class=\"dataframe\">\n",
       "  <thead>\n",
       "    <tr style=\"text-align: right;\">\n",
       "      <th></th>\n",
       "      <th>solver</th>\n",
       "      <th>flat</th>\n",
       "    </tr>\n",
       "  </thead>\n",
       "  <tbody>\n",
       "    <tr>\n",
       "      <th>0</th>\n",
       "      <td>Chuffed</td>\n",
       "      <td>0.15s</td>\n",
       "    </tr>\n",
       "    <tr>\n",
       "      <th>1</th>\n",
       "      <td>Gecode</td>\n",
       "      <td>0.13s</td>\n",
       "    </tr>\n",
       "    <tr>\n",
       "      <th>2</th>\n",
       "      <td>Highs</td>\n",
       "      <td>0.17s</td>\n",
       "    </tr>\n",
       "    <tr>\n",
       "      <th>3</th>\n",
       "      <td>OR-Tools</td>\n",
       "      <td>0.13s</td>\n",
       "    </tr>\n",
       "  </tbody>\n",
       "</table>\n",
       "</div>"
      ],
      "text/plain": [
       "     solver   flat\n",
       "0   Chuffed  0.15s\n",
       "1    Gecode  0.13s\n",
       "2     Highs  0.17s\n",
       "3  OR-Tools  0.13s"
      ]
     },
     "execution_count": 33,
     "metadata": {},
     "output_type": "execute_result"
    }
   ],
   "source": [
    "mean_flat_time = (\n",
    "    df[[\"solver\", \"flat_time\"]]\n",
    "    .groupby(\"solver\")\n",
    "    .aggregate({\n",
    "        \"flat_time\": \"mean\",\n",
    "    })\n",
    "    .rename(columns={\"flat_time\": \"flat\"})\n",
    "    .map(lambda x : str(round(x, 2)) + \"s\")\n",
    "    .reset_index()\n",
    "    .sort_values(\"solver\")\n",
    ")\n",
    "mean_flat_time"
   ]
  },
  {
   "cell_type": "code",
   "execution_count": 34,
   "metadata": {},
   "outputs": [
    {
     "data": {
      "text/html": [
       "<div>\n",
       "<style scoped>\n",
       "    .dataframe tbody tr th:only-of-type {\n",
       "        vertical-align: middle;\n",
       "    }\n",
       "\n",
       "    .dataframe tbody tr th {\n",
       "        vertical-align: top;\n",
       "    }\n",
       "\n",
       "    .dataframe thead th {\n",
       "        text-align: right;\n",
       "    }\n",
       "</style>\n",
       "<table border=\"1\" class=\"dataframe\">\n",
       "  <thead>\n",
       "    <tr style=\"text-align: right;\">\n",
       "      <th></th>\n",
       "      <th>solver</th>\n",
       "      <th>first</th>\n",
       "      <th>last</th>\n",
       "    </tr>\n",
       "  </thead>\n",
       "  <tbody>\n",
       "    <tr>\n",
       "      <th>0</th>\n",
       "      <td>Chuffed</td>\n",
       "      <td>0.36s</td>\n",
       "      <td>0.36s</td>\n",
       "    </tr>\n",
       "    <tr>\n",
       "      <th>1</th>\n",
       "      <td>Gecode</td>\n",
       "      <td>0.15s</td>\n",
       "      <td>0.15s</td>\n",
       "    </tr>\n",
       "    <tr>\n",
       "      <th>2</th>\n",
       "      <td>Highs</td>\n",
       "      <td>0.28s</td>\n",
       "      <td>0.28s</td>\n",
       "    </tr>\n",
       "    <tr>\n",
       "      <th>3</th>\n",
       "      <td>OR-Tools</td>\n",
       "      <td>0.17s</td>\n",
       "      <td>0.17s</td>\n",
       "    </tr>\n",
       "  </tbody>\n",
       "</table>\n",
       "</div>"
      ],
      "text/plain": [
       "     solver  first   last\n",
       "0   Chuffed  0.36s  0.36s\n",
       "1    Gecode  0.15s  0.15s\n",
       "2     Highs  0.28s  0.28s\n",
       "3  OR-Tools  0.17s  0.17s"
      ]
     },
     "execution_count": 34,
     "metadata": {},
     "output_type": "execute_result"
    }
   ],
   "source": [
    "first_last_solve_time = (\n",
    "    df[[\"solver\", \"objectives\"]]\n",
    "    .assign(**{\n",
    "        \"objectives_min\" : lambda df: df.objectives.apply(\n",
    "            lambda x : min([float(e) for e in x.keys()], default=pd.NA)\n",
    "        ),\n",
    "        \"objectives_max\" : lambda df: df.objectives.apply(\n",
    "            lambda x : min([float(e) for e in x.keys()], default=pd.NA)\n",
    "        )\n",
    "    })\n",
    "    .dropna()\n",
    "    .groupby(\"solver\")\n",
    "    .agg({\"objectives_min\": \"mean\", \"objectives_max\": \"mean\"})\n",
    "    .rename(columns={\"objectives_min\": \"first\", \"objectives_max\": \"last\"})\n",
    "    .map(lambda x : str(round(x, 2)) + \"s\")\n",
    "    .reset_index()\n",
    "    .sort_values(\"solver\")\n",
    ")\n",
    "first_last_solve_time"
   ]
  },
  {
   "cell_type": "code",
   "execution_count": 35,
   "metadata": {},
   "outputs": [],
   "source": [
    "scores = []\n",
    "errors = []\n",
    "for solver1, solver2 in itertools.combinations(solvers, r=2):\n",
    "    to_group = df.query(\"solver == @solver1 or solver == @solver2\")\n",
    "    for _, group in to_group.groupby(\"test\"):\n",
    "        if len(group) == 2: # Make sure that if an instance failed to run, this code will run anyway\n",
    "            scores.append(group.assign(score=borda_count))\n",
    "\n",
    "scores = (\n",
    "    pd.concat(scores)\n",
    "    [[\"solver\", \"score\"]]\n",
    "    .groupby(\"solver\")\n",
    "    .sum()\n",
    "    .map(lambda x : str(round(x, 2)))\n",
    "    .reset_index()\n",
    "    .rename(columns={\"score\": \"Score\"})\n",
    ")"
   ]
  },
  {
   "cell_type": "code",
   "execution_count": 36,
   "metadata": {},
   "outputs": [
    {
     "data": {
      "text/html": [
       "<div>\n",
       "<style scoped>\n",
       "    .dataframe tbody tr th:only-of-type {\n",
       "        vertical-align: middle;\n",
       "    }\n",
       "\n",
       "    .dataframe tbody tr th {\n",
       "        vertical-align: top;\n",
       "    }\n",
       "\n",
       "    .dataframe thead th {\n",
       "        text-align: right;\n",
       "    }\n",
       "</style>\n",
       "<table border=\"1\" class=\"dataframe\">\n",
       "  <thead>\n",
       "    <tr style=\"text-align: right;\">\n",
       "      <th></th>\n",
       "      <th>solver</th>\n",
       "      <th>Score</th>\n",
       "    </tr>\n",
       "  </thead>\n",
       "  <tbody>\n",
       "    <tr>\n",
       "      <th>0</th>\n",
       "      <td>Chuffed</td>\n",
       "      <td>150.0</td>\n",
       "    </tr>\n",
       "    <tr>\n",
       "      <th>1</th>\n",
       "      <td>Gecode</td>\n",
       "      <td>152.0</td>\n",
       "    </tr>\n",
       "    <tr>\n",
       "      <th>2</th>\n",
       "      <td>Highs</td>\n",
       "      <td>146.0</td>\n",
       "    </tr>\n",
       "    <tr>\n",
       "      <th>3</th>\n",
       "      <td>OR-Tools</td>\n",
       "      <td>152.0</td>\n",
       "    </tr>\n",
       "  </tbody>\n",
       "</table>\n",
       "</div>"
      ],
      "text/plain": [
       "     solver  Score\n",
       "0   Chuffed  150.0\n",
       "1    Gecode  152.0\n",
       "2     Highs  146.0\n",
       "3  OR-Tools  152.0"
      ]
     },
     "execution_count": 36,
     "metadata": {},
     "output_type": "execute_result"
    }
   ],
   "source": [
    "scores"
   ]
  },
  {
   "cell_type": "code",
   "execution_count": 37,
   "metadata": {},
   "outputs": [
    {
     "name": "stdout",
     "output_type": "stream",
     "text": [
      "\\begin{tabular}{llllllll}\n",
      "\\toprule\n",
      "solver & avg & min & max & flat & first & last & Score \\\\\n",
      "\\midrule\n",
      "Gecode & 0.17s & 0.14s & 0.26s & 0.13s & 0.15s & 0.15s & 152.0 \\\\\n",
      "OR-Tools & 0.17s & 0.14s & 0.23s & 0.13s & 0.17s & 0.17s & 152.0 \\\\\n",
      "Chuffed & 0.47s & 0.27s & 5.85s & 0.15s & 0.36s & 0.36s & 150.0 \\\\\n",
      "Highs & 0.36s & 0.17s & 2.26s & 0.17s & 0.28s & 0.28s & 146.0 \\\\\n",
      "\\bottomrule\n",
      "\\end{tabular}\n",
      "\n"
     ]
    }
   ],
   "source": [
    "print(reduce(lambda left, right: pd.merge(left, right, on=['solver']), [\n",
    "    mean_solve_time,\n",
    "    mean_flat_time,\n",
    "    first_last_solve_time,\n",
    "    scores\n",
    "]).sort_values(\"Score\", ascending=False).to_latex(multirow=False, index=False))"
   ]
  },
  {
   "cell_type": "code",
   "execution_count": null,
   "metadata": {},
   "outputs": [],
   "source": []
  }
 ],
 "metadata": {
  "kernelspec": {
   "display_name": ".venv",
   "language": "python",
   "name": "python3"
  },
  "language_info": {
   "codemirror_mode": {
    "name": "ipython",
    "version": 3
   },
   "file_extension": ".py",
   "mimetype": "text/x-python",
   "name": "python",
   "nbconvert_exporter": "python",
   "pygments_lexer": "ipython3",
   "version": "3.11.10"
  }
 },
 "nbformat": 4,
 "nbformat_minor": 2
}
